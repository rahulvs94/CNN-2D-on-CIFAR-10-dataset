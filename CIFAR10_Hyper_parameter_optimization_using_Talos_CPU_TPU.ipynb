{
  "nbformat": 4,
  "nbformat_minor": 0,
  "metadata": {
    "colab": {
      "name": "CIFAR10 Hyper-parameter optimization using Talos-CPU/TPU.ipynb",
      "version": "0.3.2",
      "provenance": [],
      "collapsed_sections": []
    },
    "kernelspec": {
      "name": "python3",
      "display_name": "Python 3"
    },
    "accelerator": "GPU"
  },
  "cells": [
    {
      "metadata": {
        "id": "bG7W9711BgUj",
        "colab_type": "text"
      },
      "cell_type": "markdown",
      "source": [
        "## CIFAR-10 "
      ]
    },
    {
      "metadata": {
        "id": "L47_rUGNGpKe",
        "colab_type": "code",
        "colab": {}
      },
      "cell_type": "code",
      "source": [
        "!pip install talos"
      ],
      "execution_count": 0,
      "outputs": []
    },
    {
      "metadata": {
        "id": "zb18HmVEA2fv",
        "colab_type": "code",
        "colab": {}
      },
      "cell_type": "code",
      "source": [
        "import os\n",
        "import talos as ta\n",
        "from talos import live\n",
        "import tensorflow as tf\n",
        "from talos import Evaluate\n",
        "\n",
        "import keras\n",
        "from keras.datasets import cifar10\n",
        "from keras.models import Sequential\n",
        "from keras.layers import MaxPooling2D, Conv2D\n",
        "from keras.layers import Dense, Activation, Flatten, Dropout, BatchNormalization"
      ],
      "execution_count": 0,
      "outputs": []
    },
    {
      "metadata": {
        "id": "jkxPkhLUBeU8",
        "colab_type": "code",
        "colab": {}
      },
      "cell_type": "code",
      "source": [
        "def cifar10_fn(x_train, y_train, x_val, y_val, params):\n",
        "    \n",
        "    conv_dropout = float(params['conv_dropout'])\n",
        "    dense1_neuron = int(params['dense1_neuron'])\n",
        "    model = Sequential()\n",
        "    model.add(BatchNormalization(input_shape=x_train.shape[1:]))\n",
        "    model.add(Conv2D(64, (5, 5), padding='same', activation=params['activation']))\n",
        "    model.add(MaxPooling2D(pool_size=(2, 2), strides=(2,2)))\n",
        "    model.add(Dropout(conv_dropout))\n",
        "\n",
        "    model.add(BatchNormalization(input_shape=x_train.shape[1:]))\n",
        "    model.add(Conv2D(128, (5, 5), padding='same', activation=params['activation']))\n",
        "    model.add(MaxPooling2D(pool_size=(2, 2)))\n",
        "    model.add(Dropout(conv_dropout))\n",
        "\n",
        "    model.add(BatchNormalization(input_shape=x_train.shape[1:]))\n",
        "    model.add(Conv2D(256, (5, 5), padding='same', activation=params['activation']))\n",
        "    model.add(MaxPooling2D(pool_size=(2, 2), strides=(2,2)))\n",
        "    model.add(Dropout(conv_dropout))\n",
        "\n",
        "    model.add(Flatten())\n",
        "    model.add(Dense(dense1_neuron))\n",
        "    model.add(Activation(params['activation']))\n",
        "    model.add(Dropout(0.5))\n",
        "    model.add(Dense(10))\n",
        "    model.add(Activation('softmax'))\n",
        "  \n",
        "    model.compile(\n",
        "        optimizer=params['optimizer'],\n",
        "        loss=params['loss'],\n",
        "        metrics=['accuracy']\n",
        "    )\n",
        "\n",
        "    out = model.fit(\n",
        "        x_train, \n",
        "        y_train, \n",
        "        epochs=params['epochs'], \n",
        "        batch_size=params['batch_size'], \n",
        "        verbose=1,\n",
        "        validation_data=[x_val, y_val],\n",
        "        callbacks=[live()]\n",
        "    )\n",
        "    \n",
        "    return out, model"
      ],
      "execution_count": 0,
      "outputs": []
    },
    {
      "metadata": {
        "id": "TkFfoqkJBsf8",
        "colab_type": "code",
        "colab": {
          "base_uri": "https://localhost:8080/",
          "height": 70
        },
        "outputId": "f09a6b6f-a487-4fd2-915b-42fd80fa2880"
      },
      "cell_type": "code",
      "source": [
        "(x_train, y_train), (x_test, y_test) = cifar10.load_data()\n",
        "print('x_train shape:', x_train.shape)\n",
        "print(x_train.shape[0], 'train samples')\n",
        "print(x_test.shape[0], 'test samples')"
      ],
      "execution_count": 21,
      "outputs": [
        {
          "output_type": "stream",
          "text": [
            "x_train shape: (50000, 32, 32, 3)\n",
            "50000 train samples\n",
            "10000 test samples\n"
          ],
          "name": "stdout"
        }
      ]
    },
    {
      "metadata": {
        "id": "9fvimYhSrbwE",
        "colab_type": "code",
        "colab": {}
      },
      "cell_type": "code",
      "source": [
        "x_train = x_train/255.0\n",
        "x_test = x_test/255.0\n",
        "\n",
        "num_classes = 10\n",
        "y_train = keras.utils.to_categorical(y_train, num_classes)\n",
        "y_test = keras.utils.to_categorical(y_test, num_classes)"
      ],
      "execution_count": 0,
      "outputs": []
    },
    {
      "metadata": {
        "id": "X-YbhE7xA2co",
        "colab_type": "code",
        "colab": {
          "base_uri": "https://localhost:8080/",
          "height": 326
        },
        "outputId": "2163e92a-9f82-4372-c856-8258f6718853"
      },
      "cell_type": "code",
      "source": [
        "# for testing used simple parameters' values\n",
        "'''para = {\n",
        "    'epochs': [2],\n",
        "    'batch_size': [128],\n",
        "    'dense1_neuron': [128],\n",
        "    'activation': ['relu', 'elu'],\n",
        "    'optimizer': ['sgd'],\n",
        "    'loss': ['categorical_crossentropy'],\n",
        "    'conv_dropout': [0.2]\n",
        "}'''\n",
        "\n",
        "\n",
        "para = {\n",
        "    'epochs': [10, 20],\n",
        "    'batch_size': [32, 64, 128],\n",
        "    'dense1_neuron': [128, 256, 512],\n",
        "    'activation': ['relu', 'elu'],\n",
        "    'optimizer': ['adam', 'rmsprop', 'sgd'],\n",
        "    'loss': ['categorical_crossentropy'],\n",
        "    'conv_dropout': [0.2, 0.3, 0.4, 0.5]\n",
        "}\n",
        "\n",
        "scan_results = ta.Scan(x_train,\n",
        "                       y_train,\n",
        "                       params=para,\n",
        "                       model=cifar10_fn,\n",
        "                       print_params=True,\n",
        "                       reduce_loss=True,\n",
        "                       debug=True,\n",
        "                       disable_progress_bar=True)"
      ],
      "execution_count": 28,
      "outputs": [
        {
          "output_type": "display_data",
          "data": {
            "image/png": "[encoded data removed]",
            "text/plain": [
              "<Figure size 864x576 with 2 Axes>"
            ]
          },
          "metadata": {
            "tags": []
          }
        }
      ]
    },
    {
      "metadata": {
        "id": "JrbKtT1EWyhn",
        "colab_type": "code",
        "colab": {
          "base_uri": "https://localhost:8080/",
          "height": 247
        },
        "outputId": "02ee529b-d0f5-4195-8f43-734b26fccddc"
      },
      "cell_type": "code",
      "source": [
        "# print summary\n",
        "scan_results.details"
      ],
      "execution_count": 29,
      "outputs": [
        {
          "output_type": "execute_result",
          "data": {
            "text/plain": [
              "complete_time              03/16/19/22:17\n",
              "experiment_name             031619221559_\n",
              "grid_downsample                      None\n",
              "random_method            uniform_mersenne\n",
              "reduce_loss                          True\n",
              "reduction_interval                     50\n",
              "reduction_method                     None\n",
              "reduction_metric                  val_acc\n",
              "reduction_threshold                   0.2\n",
              "reduction_window                       20\n",
              "x_shape                (50000, 32, 32, 3)\n",
              "y_shape                       (50000, 10)\n",
              "dtype: object"
            ]
          },
          "metadata": {
            "tags": []
          },
          "execution_count": 29
        }
      ]
    },
    {
      "metadata": {
        "id": "n7ipaQFdBF1o",
        "colab_type": "code",
        "colab": {}
      },
      "cell_type": "code",
      "source": [
        "report = ta.Reporting(scan_results)\n",
        "\n",
        "# use filename to store experiemnt log\n",
        "# r = ta.Reporting('iris_1.csv')"
      ],
      "execution_count": 0,
      "outputs": []
    },
    {
      "metadata": {
        "id": "mtHzXNYvdVnA",
        "colab_type": "code",
        "colab": {
          "base_uri": "https://localhost:8080/",
          "height": 52
        },
        "outputId": "faafad20-5e9f-4f52-837f-dfce6abb6439"
      },
      "cell_type": "code",
      "source": [
        "# get the best paramaters\n",
        "report.best_params()"
      ],
      "execution_count": 31,
      "outputs": [
        {
          "output_type": "execute_result",
          "data": {
            "text/plain": [
              "array([['elu', 'sgd', '0.2', '128', '2', '128', 0],\n",
              "       ['relu', 'sgd', '0.2', '128', '2', '128', 1]], dtype=object)"
            ]
          },
          "metadata": {
            "tags": []
          },
          "execution_count": 31
        }
      ]
    },
    {
      "metadata": {
        "id": "we0Sc3EETMv5",
        "colab_type": "code",
        "colab": {
          "base_uri": "https://localhost:8080/",
          "height": 194
        },
        "outputId": "4cf0aa80-46f0-4c0a-aaf1-d3f94b2cd937"
      },
      "cell_type": "code",
      "source": [
        "evalModel = Evaluate(scan_results)\n",
        "# Got an error for 'average' attribute\n",
        "# evalModel.evaluate(x_test, y_test, folds=10, average='macro', shuffle=True)\n",
        "evalModel.evaluate(x_test, y_test, folds=10, shuffle=True)"
      ],
      "execution_count": 39,
      "outputs": [
        {
          "output_type": "execute_result",
          "data": {
            "text/plain": [
              "[0.444542960380881,\n",
              " 0.47515784308750747,\n",
              " 0.4837887034634692,\n",
              " 0.4885104837211176,\n",
              " 0.49151442605895285,\n",
              " 0.4709308785958889,\n",
              " 0.4755284834296532,\n",
              " 0.47780019169704147,\n",
              " 0.4681855476049467,\n",
              " 0.4646048892059086]"
            ]
          },
          "metadata": {
            "tags": []
          },
          "execution_count": 39
        }
      ]
    },
    {
      "metadata": {
        "id": "VpeR0O9rBO9d",
        "colab_type": "text"
      },
      "cell_type": "markdown",
      "source": [
        "## Using for TPU session"
      ]
    },
    {
      "metadata": {
        "id": "f7x5jrZKAwUH",
        "colab_type": "code",
        "colab": {}
      },
      "cell_type": "code",
      "source": [
        "def cifar10_fn(x_train, y_train, x_val, y_val, params):\n",
        "\t# Step 1: reset the tensorflow backend session.\n",
        "    tf.keras.backend.clear_session()\n",
        "    # Step 2: Define the model with variable hyperparameters.\n",
        "    conv_dropout = float(params['conv_dropout'])\n",
        "    dense1_neuron = int(params['dense1_neuron'])\n",
        "    model = tf.keras.models.Sequential()\n",
        "    model.add(tf.keras.layers.BatchNormalization(input_shape=x_train.shape[1:]))\n",
        "    model.add(tf.keras.layers.Conv2D(64, (5, 5), padding='same', activation=params['activation']))\n",
        "    model.add(tf.keras.layers.MaxPooling2D(pool_size=(2, 2), strides=(2,2)))\n",
        "    model.add(tf.keras.layers.Dropout(conv_dropout))\n",
        "\n",
        "    model.add(tf.keras.layers.BatchNormalization(input_shape=x_train.shape[1:]))\n",
        "    model.add(tf.keras.layers.Conv2D(128, (5, 5), padding='same', activation=params['activation']))\n",
        "    model.add(tf.keras.layers.MaxPooling2D(pool_size=(2, 2)))\n",
        "    model.add(tf.keras.layers.Dropout(conv_dropout))\n",
        "\n",
        "    model.add(tf.keras.layers.BatchNormalization(input_shape=x_train.shape[1:]))\n",
        "    model.add(tf.keras.layers.Conv2D(256, (5, 5), padding='same', activation=params['activation']))\n",
        "    model.add(tf.keras.layers.MaxPooling2D(pool_size=(2, 2), strides=(2,2)))\n",
        "    model.add(tf.keras.layers.Dropout(conv_dropout))\n",
        "\n",
        "    model.add(tf.keras.layers.Flatten())\n",
        "    model.add(tf.keras.layers.Dense(params['dense1_neuron']))\n",
        "    model.add(tf.keras.layers.Activation(params['activation']))\n",
        "    model.add(tf.keras.layers.Dropout(0.5))\n",
        "    model.add(tf.keras.layers.Dense(10))\n",
        "    model.add(tf.keras.layers.Activation('softmax'))\n",
        "    \n",
        "    # Step 3: conver the model to tpu model and compile with tensorflow optimizer.\n",
        "    tpu_model = tf.contrib.tpu.keras_to_tpu_model(\n",
        "        model,\n",
        "        strategy=tf.contrib.tpu.TPUDistributionStrategy(\n",
        "            tf.contrib.cluster_resolver.TPUClusterResolver(tpu='grpc://' + os.environ['COLAB_TPU_ADDR'])\n",
        "        )\n",
        "    )\n",
        "    tpu_model.compile(\n",
        "        optimizer=tf.train.AdamOptimizer(learning_rate=1e-3, ),\n",
        "        loss=tf.keras.losses.categorical_crossentropy,\n",
        "        metrics=['categorical_accuracy']\n",
        "    )\n",
        "\n",
        "    # Step 4: Train the model on TPU with fixed batch size.\n",
        "    out = tpu_model.fit(\n",
        "        x_train, y_train, epochs=10, batch_size = 1024,\n",
        "        verbose=0,\n",
        "        validation_data=[x_val, y_val]\n",
        "    )\n",
        "    # Step 5: Return the history output and synced back cpu model.\n",
        "    return out, tpu_model.sync_to_cpu()"
      ],
      "execution_count": 0,
      "outputs": []
    },
    {
      "metadata": {
        "id": "hSd9oGB8_nzE",
        "colab_type": "code",
        "colab": {}
      },
      "cell_type": "code",
      "source": [
        "(x_train, y_train), (x_test, y_test) = cifar10.load_data()\n",
        "print('x_train shape:', x_train.shape)\n",
        "print(x_train.shape[0], 'train samples')\n",
        "print(x_test.shape[0], 'test samples')"
      ],
      "execution_count": 0,
      "outputs": []
    },
    {
      "metadata": {
        "id": "KpjOIF_d_nod",
        "colab_type": "code",
        "colab": {}
      },
      "cell_type": "code",
      "source": [
        "x_train = x_train/255.0\n",
        "x_test = x_test/255.0\n",
        "\n",
        "num_classes = 10\n",
        "y_train = keras.utils.to_categorical(y_train, num_classes)\n",
        "y_test = keras.utils.to_categorical(y_test, num_classes)"
      ],
      "execution_count": 0,
      "outputs": []
    },
    {
      "metadata": {
        "id": "Y5GQytMZnNwi",
        "colab_type": "code",
        "colab": {}
      },
      "cell_type": "code",
      "source": [
        "# for testing used simple parameters' values\n",
        "'''para = {\n",
        "    'epochs': [2],\n",
        "    'batch_size': [128],\n",
        "    'dense1_neuron': [128],\n",
        "    'activation': ['relu', 'elu'],\n",
        "    'optimizer': ['sgd'],\n",
        "    'loss': ['categorical_crossentropy'],\n",
        "    'conv_dropout': [0.2]\n",
        "}'''\n",
        "\n",
        "\n",
        "para = {\n",
        "    'epochs': [10, 20],\n",
        "    'batch_size': [32, 64, 128],\n",
        "    'dense1_neuron': [128, 256, 512],\n",
        "    'activation': ['relu', 'elu'],\n",
        "    'optimizer': ['adam', 'rmsprop', 'sgd'],\n",
        "    'loss': ['categorical_crossentropy'],\n",
        "    'conv_dropout': [0.2, 0.3, 0.4, 0.5]\n",
        "}\n",
        "\n",
        "scan_results = ta.Scan(x_train,\n",
        "                       y_train,\n",
        "                       params=para,\n",
        "                       model=cifar10_fn,\n",
        "                       print_params=True,\n",
        "                       reduce_loss=True,\n",
        "                       debug=True,\n",
        "                       disable_progress_bar=True)"
      ],
      "execution_count": 0,
      "outputs": []
    },
    {
      "metadata": {
        "id": "JX3eJzz4ne75",
        "colab_type": "code",
        "colab": {}
      },
      "cell_type": "code",
      "source": [
        "# print summary\n",
        "scan_results.details"
      ],
      "execution_count": 0,
      "outputs": []
    },
    {
      "metadata": {
        "id": "Ms_Yd5Cwnizq",
        "colab_type": "code",
        "colab": {}
      },
      "cell_type": "code",
      "source": [
        "report = ta.Reporting(scan_results)\n",
        "\n",
        "# use filename to store experiemnt log\n",
        "# r = ta.Reporting('iris_1.csv')"
      ],
      "execution_count": 0,
      "outputs": []
    },
    {
      "metadata": {
        "id": "HnzghHLJnevQ",
        "colab_type": "code",
        "colab": {}
      },
      "cell_type": "code",
      "source": [
        "# get the best paramaters\n",
        "report.best_params()"
      ],
      "execution_count": 0,
      "outputs": []
    },
    {
      "metadata": {
        "id": "G0zTz4p4nv8i",
        "colab_type": "code",
        "colab": {}
      },
      "cell_type": "code",
      "source": [
        "evalModel = Evaluate(scan_results)\n",
        "# Got an error for 'average' attribute\n",
        "# evalModel.evaluate(x_test, y_test, folds=10, average='macro', shuffle=True)\n",
        "evalModel.evaluate(x_test, y_test, folds=10, shuffle=True)"
      ],
      "execution_count": 0,
      "outputs": []
    },
    {
      "metadata": {
        "id": "DVfpqikDA1aM",
        "colab_type": "code",
        "colab": {}
      },
      "cell_type": "code",
      "source": [
        "# Get the best model index with highest 'val_categorical_accuracy' \n",
        "model_id = scan_results.data['val_categorical_accuracy'].astype('float').argmax() - 1\n",
        "\n",
        "# Clear any previous TensorFlow session.\n",
        "tf.keras.backend.clear_session()"
      ],
      "execution_count": 0,
      "outputs": []
    },
    {
      "metadata": {
        "id": "ymoX8Uw0A1L2",
        "colab_type": "code",
        "colab": {}
      },
      "cell_type": "code",
      "source": [
        ""
      ],
      "execution_count": 0,
      "outputs": []
    }
  ]
}