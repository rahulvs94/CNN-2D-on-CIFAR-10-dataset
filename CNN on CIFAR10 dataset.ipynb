{
 "cells": [
  {
   "cell_type": "markdown",
   "metadata": {},
   "source": [
    "CIFAR-10 Dataset link: \n",
    "http://www.cs.toronto.edu/~kriz/cifar.html"
   ]
  },
  {
   "cell_type": "markdown",
   "metadata": {},
   "source": [
    "# PART 1"
   ]
  },
  {
   "cell_type": "code",
   "execution_count": 1,
   "metadata": {},
   "outputs": [
    {
     "name": "stderr",
     "output_type": "stream",
     "text": [
      "C:\\Anaconda3\\lib\\site-packages\\h5py\\__init__.py:34: FutureWarning: Conversion of the second argument of issubdtype from `float` to `np.floating` is deprecated. In future, it will be treated as `np.float64 == np.dtype(float).type`.\n",
      "  from ._conv import register_converters as _register_converters\n",
      "Using TensorFlow backend.\n"
     ]
    }
   ],
   "source": [
    "from __future__ import print_function\n",
    "import keras\n",
    "from keras.datasets import cifar10\n",
    "from keras.preprocessing.image import ImageDataGenerator\n",
    "from keras.models import Sequential\n",
    "from keras.layers import Dense, Dropout, Activation, Flatten\n",
    "from keras.layers import Conv2D, MaxPooling2D\n",
    "from keras.layers import LeakyReLU\n",
    "from keras.layers.advanced_activations import ELU\n",
    "import matplotlib.pyplot as plt"
   ]
  },
  {
   "cell_type": "markdown",
   "metadata": {},
   "source": [
    "Initializing parameters"
   ]
  },
  {
   "cell_type": "code",
   "execution_count": 2,
   "metadata": {
    "collapsed": true
   },
   "outputs": [],
   "source": [
    "batch_size = 100\n",
    "num_classes = 10\n",
    "epochs = 100\n",
    "# opt = keras.optimizers.rmsprop(lr=0.0001, decay=1e-6)\n",
    "opt = keras.optimizers.Adam(lr=0.001, beta_1=0.9, beta_2=0.999, epsilon=1e-08, decay=0.0, amsgrad=False)"
   ]
  },
  {
   "cell_type": "markdown",
   "metadata": {},
   "source": [
    "Loading dataset"
   ]
  },
  {
   "cell_type": "code",
   "execution_count": 3,
   "metadata": {
    "collapsed": true
   },
   "outputs": [],
   "source": [
    "(x_train, y_train), (x_test, y_test) = cifar10.load_data()"
   ]
  },
  {
   "cell_type": "markdown",
   "metadata": {},
   "source": [
    "Split datas between train and test sets"
   ]
  },
  {
   "cell_type": "code",
   "execution_count": 4,
   "metadata": {},
   "outputs": [
    {
     "name": "stdout",
     "output_type": "stream",
     "text": [
      "x_train shape:  (50000, 32, 32, 3)\n",
      "x_train samples:  50000\n",
      "y_train samples:  (50000, 1)\n",
      "\n",
      "nx_test shape:  (10000, 32, 32, 3)\n",
      "x_test samples:  50000\n",
      "y_test samples:  (10000, 1)\n"
     ]
    }
   ],
   "source": [
    "print('x_train shape: ', x_train.shape)\n",
    "print('x_train samples: ', x_train.shape[0])\n",
    "print('y_train samples: ', y_train.shape)\n",
    "print('\\nnx_test shape: ', x_test.shape)\n",
    "print('x_test samples: ', x_train.shape[0])\n",
    "print('y_test samples: ', y_test.shape)"
   ]
  },
  {
   "cell_type": "markdown",
   "metadata": {},
   "source": [
    "Convert classes vectors to binary class matrices"
   ]
  },
  {
   "cell_type": "code",
   "execution_count": 5,
   "metadata": {},
   "outputs": [
    {
     "name": "stdout",
     "output_type": "stream",
     "text": [
      "First y_train sample:  [0. 0. 0. 0. 0. 0. 1. 0. 0. 0.]\n"
     ]
    }
   ],
   "source": [
    "y_train = keras.utils.to_categorical(y_train, num_classes)\n",
    "y_test = keras.utils.to_categorical(y_test, num_classes)\n",
    "\n",
    "print('First y_train sample: ', y_train[0])"
   ]
  },
  {
   "cell_type": "markdown",
   "metadata": {},
   "source": [
    "Defining the model "
   ]
  },
  {
   "cell_type": "code",
   "execution_count": 6,
   "metadata": {
    "collapsed": true
   },
   "outputs": [],
   "source": [
    "model = Sequential()\n",
    "\n",
    "model.add(Conv2D(32, (3, 3), padding='same', input_shape=x_train.shape[1:]))\n",
    "# model.add(Activation('relu'))\n",
    "model.add(ELU(alpha=1.0))\n",
    "# model.add(LeakyReLU(alpha=.001))\n",
    "model.add(Conv2D(32, (3, 3)))\n",
    "# model.add(Activation('relu'))\n",
    "model.add(ELU(alpha=1.0))\n",
    "# model.add(LeakyReLU(alpha=.001))\n",
    "model.add(MaxPooling2D(pool_size=(2, 2)))\n",
    "model.add(Dropout(0.25))\n",
    "\n",
    "model.add(Conv2D(64, (3, 3), padding='same'))\n",
    "# model.add(Activation('relu'))\n",
    "model.add(ELU(alpha=1.0))\n",
    "# model.add(LeakyReLU(alpha=.001))\n",
    "model.add(Conv2D(64, (3, 3)))\n",
    "# model.add(Activation('relu'))\n",
    "model.add(ELU(alpha=1.0))\n",
    "# model.add(LeakyReLU(alpha=.001))\n",
    "model.add(MaxPooling2D(pool_size=(2, 2)))\n",
    "model.add(Dropout(0.25))\n",
    "\n",
    "model.add(Flatten())\n",
    "model.add(Dense(512))\n",
    "# model.add(Activation('relu'))\n",
    "model.add(ELU(alpha=1.0))\n",
    "# model.add(LeakyReLU(alpha=.001))\n",
    "model.add(Dropout(0.5))\n",
    "model.add(Dense(num_classes))\n",
    "model.add(Activation('softmax'))"
   ]
  },
  {
   "cell_type": "markdown",
   "metadata": {},
   "source": [
    "Compile model"
   ]
  },
  {
   "cell_type": "code",
   "execution_count": 7,
   "metadata": {
    "collapsed": true
   },
   "outputs": [],
   "source": [
    "model.compile(loss='categorical_crossentropy', optimizer=opt, metrics=['accuracy'])"
   ]
  },
  {
   "cell_type": "markdown",
   "metadata": {},
   "source": [
    "Model summary"
   ]
  },
  {
   "cell_type": "code",
   "execution_count": 8,
   "metadata": {
    "scrolled": true
   },
   "outputs": [
    {
     "name": "stdout",
     "output_type": "stream",
     "text": [
      "_________________________________________________________________\n",
      "Layer (type)                 Output Shape              Param #   \n",
      "=================================================================\n",
      "conv2d_1 (Conv2D)            (None, 32, 32, 32)        896       \n",
      "_________________________________________________________________\n",
      "elu_1 (ELU)                  (None, 32, 32, 32)        0         \n",
      "_________________________________________________________________\n",
      "conv2d_2 (Conv2D)            (None, 30, 30, 32)        9248      \n",
      "_________________________________________________________________\n",
      "elu_2 (ELU)                  (None, 30, 30, 32)        0         \n",
      "_________________________________________________________________\n",
      "max_pooling2d_1 (MaxPooling2 (None, 15, 15, 32)        0         \n",
      "_________________________________________________________________\n",
      "dropout_1 (Dropout)          (None, 15, 15, 32)        0         \n",
      "_________________________________________________________________\n",
      "conv2d_3 (Conv2D)            (None, 15, 15, 64)        18496     \n",
      "_________________________________________________________________\n",
      "elu_3 (ELU)                  (None, 15, 15, 64)        0         \n",
      "_________________________________________________________________\n",
      "conv2d_4 (Conv2D)            (None, 13, 13, 64)        36928     \n",
      "_________________________________________________________________\n",
      "elu_4 (ELU)                  (None, 13, 13, 64)        0         \n",
      "_________________________________________________________________\n",
      "max_pooling2d_2 (MaxPooling2 (None, 6, 6, 64)          0         \n",
      "_________________________________________________________________\n",
      "dropout_2 (Dropout)          (None, 6, 6, 64)          0         \n",
      "_________________________________________________________________\n",
      "flatten_1 (Flatten)          (None, 2304)              0         \n",
      "_________________________________________________________________\n",
      "dense_1 (Dense)              (None, 512)               1180160   \n",
      "_________________________________________________________________\n",
      "elu_5 (ELU)                  (None, 512)               0         \n",
      "_________________________________________________________________\n",
      "dropout_3 (Dropout)          (None, 512)               0         \n",
      "_________________________________________________________________\n",
      "dense_2 (Dense)              (None, 10)                5130      \n",
      "_________________________________________________________________\n",
      "activation_1 (Activation)    (None, 10)                0         \n",
      "=================================================================\n",
      "Total params: 1,250,858\n",
      "Trainable params: 1,250,858\n",
      "Non-trainable params: 0\n",
      "_________________________________________________________________\n"
     ]
    }
   ],
   "source": [
    "model.summary()"
   ]
  },
  {
   "cell_type": "markdown",
   "metadata": {},
   "source": [
    "Let's train the model"
   ]
  },
  {
   "cell_type": "code",
   "execution_count": null,
   "metadata": {
    "collapsed": true
   },
   "outputs": [],
   "source": [
    "history = model.fit(x_train, y_train, validation_split=0.3, batch_size=batch_size, epochs=epochs, shuffle=True)"
   ]
  },
  {
   "cell_type": "markdown",
   "metadata": {},
   "source": [
    "Plotting loss vs epoch"
   ]
  },
  {
   "cell_type": "code",
   "execution_count": null,
   "metadata": {
    "collapsed": true
   },
   "outputs": [],
   "source": [
    "# list all data in history\n",
    "print(history.history.keys())\n",
    "\n",
    "plt.plot(history.history['loss'])\n",
    "plt.plot(history.history['val_loss'])\n",
    "plt.title('Model loss')\n",
    "plt.ylabel('Loss')\n",
    "plt.xlabel('Epoch')\n",
    "plt.legend(['Train', 'Validation'], loc='upper left')\n",
    "plt.show()"
   ]
  },
  {
   "cell_type": "markdown",
   "metadata": {},
   "source": [
    "Evaluate test samples "
   ]
  },
  {
   "cell_type": "code",
   "execution_count": null,
   "metadata": {
    "collapsed": true
   },
   "outputs": [],
   "source": [
    "scores = model.evaluate(x_test, y_test, verbose=1)\n",
    "\n",
    "print('Test loss:', scores[0])\n",
    "\n",
    "print('Test accuracy:', scores[1])"
   ]
  },
  {
   "cell_type": "markdown",
   "metadata": {},
   "source": [
    "Using ReLU activation function, Validation accuracy = 75.67%, Train accuracy = 78.84%, Test accuracy = 75.13%"
   ]
  },
  {
   "cell_type": "markdown",
   "metadata": {},
   "source": [
    "**Overall, model has high bias and high variance and required more than 3 hrs to train the data.**"
   ]
  },
  {
   "cell_type": "markdown",
   "metadata": {},
   "source": [
    "Using Leaky ReLU activation function, Validation accuracy = 74.92%, Train accuracy = 79.21%, Test accuracy = 74.98%"
   ]
  },
  {
   "cell_type": "markdown",
   "metadata": {},
   "source": [
    "**After changing the activation function to Leaky ReLU, model still has high bias and high variance. By inspection, this model required more time than model with ReLU activation to train the data.**"
   ]
  },
  {
   "cell_type": "markdown",
   "metadata": {},
   "source": [
    "# PART 2"
   ]
  },
  {
   "cell_type": "markdown",
   "metadata": {},
   "source": [
    "Now, we will check the behaviour of model after feeding scaled training and test samples "
   ]
  },
  {
   "cell_type": "markdown",
   "metadata": {},
   "source": [
    "Scaling test and training samples"
   ]
  },
  {
   "cell_type": "code",
   "execution_count": 9,
   "metadata": {
    "collapsed": true
   },
   "outputs": [],
   "source": [
    "x_train = x_train.astype('float32')\n",
    "x_test = x_test.astype('float32')\n",
    "x_train /= 255\n",
    "x_test /= 255"
   ]
  },
  {
   "cell_type": "markdown",
   "metadata": {},
   "source": [
    "Let's train the model"
   ]
  },
  {
   "cell_type": "code",
   "execution_count": null,
   "metadata": {
    "collapsed": true
   },
   "outputs": [],
   "source": [
    "history = model.fit(x_train, y_train, validation_split=0.3, batch_size=batch_size, epochs=epochs, shuffle=True)"
   ]
  },
  {
   "cell_type": "markdown",
   "metadata": {},
   "source": [
    "Plotting loss vs epoch"
   ]
  },
  {
   "cell_type": "code",
   "execution_count": null,
   "metadata": {
    "collapsed": true
   },
   "outputs": [],
   "source": [
    "# list all data in history\n",
    "print(history.history.keys())\n",
    "\n",
    "plt.plot(history.history['loss'])\n",
    "plt.plot(history.history['val_loss'])\n",
    "plt.title('Model loss')\n",
    "plt.ylabel('Loss')\n",
    "plt.xlabel('Epoch')\n",
    "plt.legend(['Train', 'Validation'], loc='upper left')\n",
    "plt.show()"
   ]
  },
  {
   "cell_type": "markdown",
   "metadata": {},
   "source": [
    "Evaluate test samples "
   ]
  },
  {
   "cell_type": "code",
   "execution_count": null,
   "metadata": {
    "collapsed": true
   },
   "outputs": [],
   "source": [
    "scores = model.evaluate(x_test, y_test, verbose=1)\n",
    "\n",
    "print('Test loss:', scores[0])\n",
    "\n",
    "print('Test accuracy:', scores[1])"
   ]
  },
  {
   "cell_type": "markdown",
   "metadata": {},
   "source": [
    "Validation accuracy = 79.07%, Train accuracy = 84.43%, Test accuracy = 78.3%"
   ]
  },
  {
   "cell_type": "markdown",
   "metadata": {},
   "source": [
    "**Now, Analyzing this model will show that training error is around 15% whereas validation error is 21%. If we compare with model without scaling the dataset, then test accuracy has increased by 3%. Bias has been decreased but variance is high. Next step will be to reduce high variance.**"
   ]
  },
  {
   "cell_type": "markdown",
   "metadata": {},
   "source": [
    "**To reduce the high variance problem, we can add more data by data augmentation.**"
   ]
  },
  {
   "cell_type": "markdown",
   "metadata": {},
   "source": [
    "# PART 3"
   ]
  },
  {
   "cell_type": "markdown",
   "metadata": {},
   "source": [
    "Now, we will check the behaviour of model after feeding scaled training and test samples "
   ]
  },
  {
   "cell_type": "code",
   "execution_count": 10,
   "metadata": {},
   "outputs": [
    {
     "name": "stdout",
     "output_type": "stream",
     "text": [
      "Using real-time data augmentation.\n"
     ]
    }
   ],
   "source": [
    "print('Using real-time data augmentation.')\n",
    "\n",
    "# This will do preprocessing and realtime data augmentation\n",
    "datagen = ImageDataGenerator(\n",
    "    # set input mean to 0 over the dataset\n",
    "    featurewise_center=False, \n",
    "    # set each sample mean to 0\n",
    "    samplewise_center=False,  \n",
    "    # divide inputs by std of the dataset\n",
    "    featurewise_std_normalization=False, \n",
    "    # divide each input by its std\n",
    "    samplewise_std_normalization=False,\n",
    "    # apply ZCA whitening\n",
    "    zca_whitening=False,  \n",
    "    # epsilon for ZCA whitening\n",
    "    zca_epsilon=1e-06,  \n",
    "    # randomly rotate images in the range (degrees, 0 to 180)\n",
    "    rotation_range=0,  \n",
    "    # randomly shift images horizontally (fraction of total width)    \n",
    "    width_shift_range=0.1,\n",
    "    # randomly shift images vertically (fraction of total height)\n",
    "    height_shift_range=0.1,\n",
    "    # set range for random shear\n",
    "    shear_range=0., \n",
    "    # set range for random zoom\n",
    "    zoom_range=0.,  \n",
    "    # set range for random channel shifts\n",
    "    channel_shift_range=0.,  \n",
    "    # set mode for filling points outside the input boundaries\n",
    "    fill_mode='nearest',\n",
    "    # value used for fill_mode = \"constant\"\n",
    "    cval=0.,  \n",
    "    # randomly flip images\n",
    "    horizontal_flip=True,  \n",
    "    # randomly flip images\n",
    "    vertical_flip=False,  \n",
    "    # set rescaling factor (applied before any other transformation)\n",
    "    rescale=None,\n",
    "    # set function that will be applied on each input\n",
    "    preprocessing_function=None,\n",
    "    # image data format, either \"channels_first\" or \"channels_last\"\n",
    "    data_format=None,\n",
    "    # fraction of images reserved for validation (strictly between 0 and 1)\n",
    "    validation_split=0.0)"
   ]
  },
  {
   "cell_type": "code",
   "execution_count": 11,
   "metadata": {
    "collapsed": true
   },
   "outputs": [],
   "source": [
    "# Compute quantities required for feature-wise normalization\n",
    "datagen.fit(x_train)"
   ]
  },
  {
   "cell_type": "markdown",
   "metadata": {},
   "source": [
    "Fit the model on the batches generated by datagen.flow()"
   ]
  },
  {
   "cell_type": "code",
   "execution_count": 12,
   "metadata": {},
   "outputs": [
    {
     "name": "stdout",
     "output_type": "stream",
     "text": [
      "Epoch 1/100\n",
      "500/500 [==============================] - 310s 619ms/step - loss: 1.6150 - acc: 0.4225\n",
      "Epoch 2/100\n",
      "500/500 [==============================] - 298s 596ms/step - loss: 1.3475 - acc: 0.5290\n",
      "Epoch 3/100\n",
      "500/500 [==============================] - 306s 611ms/step - loss: 1.2638 - acc: 0.5594\n",
      "Epoch 4/100\n",
      "500/500 [==============================] - 293s 586ms/step - loss: 1.2001 - acc: 0.5813\n",
      "Epoch 5/100\n",
      "500/500 [==============================] - 284s 568ms/step - loss: 1.1495 - acc: 0.5969\n",
      "Epoch 6/100\n",
      "500/500 [==============================] - 286s 573ms/step - loss: 1.0982 - acc: 0.6164\n",
      "Epoch 7/100\n",
      "500/500 [==============================] - 295s 591ms/step - loss: 1.0611 - acc: 0.6293\n",
      "Epoch 8/100\n",
      "500/500 [==============================] - 321s 642ms/step - loss: 1.0296 - acc: 0.6392\n",
      "Epoch 9/100\n",
      "500/500 [==============================] - 315s 630ms/step - loss: 1.0008 - acc: 0.6510\n",
      "Epoch 10/100\n",
      "500/500 [==============================] - 316s 633ms/step - loss: 0.9775 - acc: 0.6595\n",
      "Epoch 11/100\n",
      "500/500 [==============================] - 313s 625ms/step - loss: 0.9551 - acc: 0.6679\n",
      "Epoch 12/100\n",
      "500/500 [==============================] - 299s 598ms/step - loss: 0.9459 - acc: 0.6717\n",
      "Epoch 13/100\n",
      "500/500 [==============================] - 307s 613ms/step - loss: 0.9273 - acc: 0.6786\n",
      "Epoch 14/100\n",
      "500/500 [==============================] - 317s 634ms/step - loss: 0.9113 - acc: 0.6845\n",
      "Epoch 15/100\n",
      "500/500 [==============================] - 324s 647ms/step - loss: 0.8983 - acc: 0.6888\n",
      "Epoch 16/100\n",
      "500/500 [==============================] - 302s 604ms/step - loss: 0.8898 - acc: 0.6906\n",
      "Epoch 17/100\n",
      "500/500 [==============================] - 317s 633ms/step - loss: 0.8817 - acc: 0.6939\n",
      "Epoch 18/100\n",
      "500/500 [==============================] - 300s 600ms/step - loss: 0.8763 - acc: 0.6991\n",
      "Epoch 19/100\n",
      "500/500 [==============================] - 299s 598ms/step - loss: 0.8698 - acc: 0.6994\n",
      "Epoch 20/100\n",
      "500/500 [==============================] - 281s 561ms/step - loss: 0.8521 - acc: 0.7080\n",
      "Epoch 21/100\n",
      "500/500 [==============================] - 293s 587ms/step - loss: 0.8452 - acc: 0.7092\n",
      "Epoch 22/100\n",
      "500/500 [==============================] - 291s 583ms/step - loss: 0.8394 - acc: 0.7105\n",
      "Epoch 23/100\n",
      "500/500 [==============================] - 297s 594ms/step - loss: 0.8355 - acc: 0.7127\n",
      "Epoch 24/100\n",
      "500/500 [==============================] - 310s 621ms/step - loss: 0.8355 - acc: 0.7142\n",
      "Epoch 25/100\n",
      "500/500 [==============================] - 305s 609ms/step - loss: 0.8200 - acc: 0.7188\n",
      "Epoch 26/100\n",
      "500/500 [==============================] - 285s 570ms/step - loss: 0.8208 - acc: 0.7197\n",
      "Epoch 27/100\n",
      "500/500 [==============================] - 281s 563ms/step - loss: 0.8195 - acc: 0.7198\n",
      "Epoch 28/100\n",
      "500/500 [==============================] - 280s 560ms/step - loss: 0.8127 - acc: 0.7211\n",
      "Epoch 29/100\n",
      "500/500 [==============================] - 278s 555ms/step - loss: 0.8092 - acc: 0.7225\n",
      "Epoch 30/100\n",
      "500/500 [==============================] - 274s 549ms/step - loss: 0.8017 - acc: 0.7258\n",
      "Epoch 31/100\n",
      "500/500 [==============================] - 273s 546ms/step - loss: 0.7973 - acc: 0.7251\n",
      "Epoch 32/100\n",
      "500/500 [==============================] - 273s 546ms/step - loss: 0.7963 - acc: 0.7266\n",
      "Epoch 33/100\n",
      "500/500 [==============================] - 273s 547ms/step - loss: 0.7916 - acc: 0.7289\n",
      "Epoch 34/100\n",
      "500/500 [==============================] - 273s 545ms/step - loss: 0.7915 - acc: 0.7299\n",
      "Epoch 35/100\n",
      "500/500 [==============================] - 278s 556ms/step - loss: 0.7815 - acc: 0.7332\n",
      "Epoch 36/100\n",
      "500/500 [==============================] - 277s 554ms/step - loss: 0.7755 - acc: 0.7350\n",
      "Epoch 37/100\n",
      "500/500 [==============================] - 273s 545ms/step - loss: 0.7816 - acc: 0.7338\n",
      "Epoch 38/100\n",
      "500/500 [==============================] - 273s 547ms/step - loss: 0.7762 - acc: 0.7341\n",
      "Epoch 39/100\n",
      "500/500 [==============================] - 273s 547ms/step - loss: 0.7721 - acc: 0.7370\n",
      "Epoch 40/100\n",
      "500/500 [==============================] - 273s 546ms/step - loss: 0.7781 - acc: 0.7348\n",
      "Epoch 41/100\n",
      "500/500 [==============================] - 273s 546ms/step - loss: 0.7636 - acc: 0.7401\n",
      "Epoch 42/100\n",
      "500/500 [==============================] - 273s 547ms/step - loss: 0.7651 - acc: 0.7386\n",
      "Epoch 43/100\n",
      "500/500 [==============================] - 273s 546ms/step - loss: 0.7691 - acc: 0.7394\n",
      "Epoch 44/100\n",
      "500/500 [==============================] - 273s 547ms/step - loss: 0.7671 - acc: 0.7399\n",
      "Epoch 45/100\n",
      "500/500 [==============================] - 278s 556ms/step - loss: 0.7567 - acc: 0.7425\n",
      "Epoch 46/100\n",
      "500/500 [==============================] - 273s 546ms/step - loss: 0.7589 - acc: 0.7437\n",
      "Epoch 47/100\n",
      "500/500 [==============================] - 274s 547ms/step - loss: 0.7532 - acc: 0.7448\n",
      "Epoch 48/100\n",
      "500/500 [==============================] - 275s 551ms/step - loss: 0.7509 - acc: 0.7443\n",
      "Epoch 49/100\n",
      "500/500 [==============================] - 282s 563ms/step - loss: 0.7506 - acc: 0.7469\n",
      "Epoch 50/100\n",
      "500/500 [==============================] - 278s 555ms/step - loss: 0.7466 - acc: 0.7483\n",
      "Epoch 51/100\n",
      "500/500 [==============================] - 277s 554ms/step - loss: 0.7426 - acc: 0.7483\n",
      "Epoch 52/100\n",
      "500/500 [==============================] - 280s 560ms/step - loss: 0.7474 - acc: 0.7465\n",
      "Epoch 53/100\n",
      "500/500 [==============================] - 277s 553ms/step - loss: 0.7423 - acc: 0.7502\n",
      "Epoch 54/100\n",
      "500/500 [==============================] - 275s 549ms/step - loss: 0.7411 - acc: 0.7497\n",
      "Epoch 55/100\n",
      "500/500 [==============================] - 273s 547ms/step - loss: 0.7362 - acc: 0.7510\n",
      "Epoch 56/100\n",
      "500/500 [==============================] - 274s 548ms/step - loss: 0.7344 - acc: 0.7537\n",
      "Epoch 57/100\n",
      "500/500 [==============================] - 279s 558ms/step - loss: 0.7387 - acc: 0.7499\n",
      "Epoch 58/100\n",
      "500/500 [==============================] - 275s 550ms/step - loss: 0.7317 - acc: 0.7532\n",
      "Epoch 59/100\n",
      "500/500 [==============================] - 274s 549ms/step - loss: 0.7414 - acc: 0.7502\n",
      "Epoch 60/100\n",
      "500/500 [==============================] - 275s 550ms/step - loss: 0.7320 - acc: 0.7534\n",
      "Epoch 61/100\n",
      "500/500 [==============================] - 278s 556ms/step - loss: 0.7272 - acc: 0.7551\n",
      "Epoch 62/100\n",
      "500/500 [==============================] - 279s 557ms/step - loss: 0.7212 - acc: 0.7554\n",
      "Epoch 63/100\n",
      "500/500 [==============================] - 280s 560ms/step - loss: 0.7286 - acc: 0.7532\n",
      "Epoch 64/100\n",
      "500/500 [==============================] - 273s 547ms/step - loss: 0.7317 - acc: 0.7529\n",
      "Epoch 65/100\n",
      "500/500 [==============================] - 273s 547ms/step - loss: 0.7268 - acc: 0.7543\n",
      "Epoch 66/100\n",
      "500/500 [==============================] - 273s 546ms/step - loss: 0.7188 - acc: 0.7578\n",
      "Epoch 67/100\n",
      "500/500 [==============================] - 273s 546ms/step - loss: 0.7150 - acc: 0.7589\n",
      "Epoch 68/100\n",
      "500/500 [==============================] - 273s 547ms/step - loss: 0.7113 - acc: 0.7619\n",
      "Epoch 69/100\n",
      "500/500 [==============================] - 273s 546ms/step - loss: 0.7106 - acc: 0.7614\n",
      "Epoch 70/100\n",
      "500/500 [==============================] - 274s 548ms/step - loss: 0.7109 - acc: 0.7597\n",
      "Epoch 71/100\n",
      "500/500 [==============================] - 273s 547ms/step - loss: 0.7144 - acc: 0.7596\n",
      "Epoch 72/100\n",
      "500/500 [==============================] - 274s 548ms/step - loss: 0.7143 - acc: 0.7596\n",
      "Epoch 73/100\n",
      "500/500 [==============================] - 275s 550ms/step - loss: 0.7228 - acc: 0.7578\n",
      "Epoch 74/100\n",
      "500/500 [==============================] - 275s 551ms/step - loss: 0.7055 - acc: 0.7618\n",
      "Epoch 75/100\n",
      "500/500 [==============================] - 273s 547ms/step - loss: 0.7171 - acc: 0.7605\n",
      "Epoch 76/100\n",
      "500/500 [==============================] - 275s 549ms/step - loss: 0.7034 - acc: 0.7645\n",
      "Epoch 77/100\n",
      "500/500 [==============================] - 274s 548ms/step - loss: 0.7051 - acc: 0.7642\n",
      "Epoch 78/100\n",
      "500/500 [==============================] - 273s 547ms/step - loss: 0.7107 - acc: 0.7617\n",
      "Epoch 79/100\n",
      "500/500 [==============================] - 281s 561ms/step - loss: 0.7035 - acc: 0.7672\n",
      "Epoch 80/100\n",
      "500/500 [==============================] - 274s 548ms/step - loss: 0.7066 - acc: 0.7624\n",
      "Epoch 81/100\n",
      "500/500 [==============================] - 274s 547ms/step - loss: 0.7154 - acc: 0.7614\n",
      "Epoch 82/100\n"
     ]
    },
    {
     "name": "stdout",
     "output_type": "stream",
     "text": [
      "500/500 [==============================] - 271s 541ms/step - loss: 0.7036 - acc: 0.7660\n",
      "Epoch 83/100\n",
      "500/500 [==============================] - 271s 542ms/step - loss: 0.6979 - acc: 0.7668\n",
      "Epoch 84/100\n",
      "500/500 [==============================] - 271s 541ms/step - loss: 0.7001 - acc: 0.7672\n",
      "Epoch 85/100\n",
      "500/500 [==============================] - 271s 542ms/step - loss: 0.6960 - acc: 0.7670\n",
      "Epoch 86/100\n",
      "500/500 [==============================] - 270s 540ms/step - loss: 0.7007 - acc: 0.7670\n",
      "Epoch 87/100\n",
      "500/500 [==============================] - 273s 545ms/step - loss: 0.6983 - acc: 0.7664\n",
      "Epoch 88/100\n",
      "500/500 [==============================] - 270s 541ms/step - loss: 0.6978 - acc: 0.7703\n",
      "Epoch 89/100\n",
      "500/500 [==============================] - 276s 553ms/step - loss: 0.6949 - acc: 0.7676\n",
      "Epoch 90/100\n",
      "500/500 [==============================] - 271s 542ms/step - loss: 0.6969 - acc: 0.7674\n",
      "Epoch 91/100\n",
      "500/500 [==============================] - 271s 541ms/step - loss: 0.6854 - acc: 0.7702\n",
      "Epoch 92/100\n",
      "500/500 [==============================] - 271s 541ms/step - loss: 0.6889 - acc: 0.7706\n",
      "Epoch 93/100\n",
      "500/500 [==============================] - 271s 542ms/step - loss: 0.6893 - acc: 0.7694\n",
      "Epoch 94/100\n",
      "500/500 [==============================] - 4903s 10s/step - loss: 0.6879 - acc: 0.7699\n",
      "Epoch 95/100\n",
      "500/500 [==============================] - 277s 554ms/step - loss: 0.6880 - acc: 0.7719\n",
      "Epoch 96/100\n",
      "500/500 [==============================] - 274s 549ms/step - loss: 0.6932 - acc: 0.7698\n",
      "Epoch 97/100\n",
      "500/500 [==============================] - 274s 547ms/step - loss: 0.6888 - acc: 0.7717\n",
      "Epoch 98/100\n",
      "500/500 [==============================] - 272s 544ms/step - loss: 0.6904 - acc: 0.7713\n",
      "Epoch 99/100\n",
      "500/500 [==============================] - 272s 544ms/step - loss: 0.6894 - acc: 0.7709\n",
      "Epoch 100/100\n",
      "500/500 [==============================] - 274s 548ms/step - loss: 0.6886 - acc: 0.7722\n"
     ]
    }
   ],
   "source": [
    "history = model.fit_generator(datagen.flow(x_train, y_train, batch_size=batch_size), epochs=epochs, validation_data=None, workers=4)"
   ]
  },
  {
   "cell_type": "markdown",
   "metadata": {},
   "source": [
    "Plotting loss vs epoch"
   ]
  },
  {
   "cell_type": "code",
   "execution_count": 13,
   "metadata": {},
   "outputs": [
    {
     "name": "stdout",
     "output_type": "stream",
     "text": [
      "dict_keys(['loss', 'acc'])\n"
     ]
    },
    {
     "data": {
      "image/png": "[encoded data removed]",
      "text/plain": [
       "<Figure size 432x288 with 1 Axes>"
      ]
     },
     "metadata": {},
     "output_type": "display_data"
    }
   ],
   "source": [
    "# list all data in history\n",
    "print(history.history.keys())\n",
    "\n",
    "plt.plot(history.history['loss'])\n",
    "plt.title('Model loss')\n",
    "plt.ylabel('Loss')\n",
    "plt.xlabel('Epoch')\n",
    "plt.legend(['Train'], loc='upper right')\n",
    "plt.show()"
   ]
  },
  {
   "cell_type": "markdown",
   "metadata": {},
   "source": [
    "Evaluate test samples "
   ]
  },
  {
   "cell_type": "code",
   "execution_count": 14,
   "metadata": {},
   "outputs": [
    {
     "name": "stdout",
     "output_type": "stream",
     "text": [
      "10000/10000 [==============================] - 21s 2ms/step\n",
      "Test loss: 0.5238166380882263\n",
      "Test accuracy: 0.8274\n"
     ]
    }
   ],
   "source": [
    "scores = model.evaluate(x_test, y_test, verbose=1)\n",
    "\n",
    "print('Test loss:', scores[0])\n",
    "\n",
    "print('Test accuracy:', scores[1])"
   ]
  },
  {
   "cell_type": "markdown",
   "metadata": {},
   "source": [
    "Train accuracy = 75.98%, Test accuracy = 78.8%"
   ]
  },
  {
   "cell_type": "markdown",
   "metadata": {},
   "source": [
    "**If we compare the train accuracy with model applied after scaled data, then it has decreased by 8% and test accuracy has increased by just 0.5%. We can see that model still has high bias problem and adding the data to train the model has not helped in this case. We can try,** \n",
    "1. add the features\n",
    "2. train for longer time\n",
    "3. try with different optimizer\n",
    "4. train with different model"
   ]
  },
  {
   "cell_type": "markdown",
   "metadata": {
    "collapsed": true
   },
   "source": [
    "# PART 4"
   ]
  },
  {
   "cell_type": "markdown",
   "metadata": {},
   "source": [
    "Now, we will se the performace after changing the optimizer from RMSProp to Adam."
   ]
  },
  {
   "cell_type": "code",
   "execution_count": null,
   "metadata": {
    "collapsed": true
   },
   "outputs": [],
   "source": [
    "opt = keras.optimizers.Adam(lr=0.001, beta_1=0.9, beta_2=0.999, epsilon=1e-08, decay=0.0, amsgrad=False)"
   ]
  },
  {
   "cell_type": "markdown",
   "metadata": {},
   "source": [
    "Train accuracy = 81.24%, Test accuracy = 82.67%"
   ]
  },
  {
   "cell_type": "markdown",
   "metadata": {},
   "source": [
    "**If we compare accuracy with previous trained model, then train accuracy has increased by 5% and test accuracy has increased by almost 4%**"
   ]
  },
  {
   "cell_type": "markdown",
   "metadata": {},
   "source": [
    "# PART 5"
   ]
  },
  {
   "cell_type": "markdown",
   "metadata": {},
   "source": [
    "Let's chnage the activation function. According to researchers, exponential linear function (ELU) works faster compare to LReLU and ReLU activation functions. It helps better the performance but increase runtime for training data. I have added this function in model definition itself."
   ]
  },
  {
   "cell_type": "markdown",
   "metadata": {},
   "source": [
    "Train accuracy = 77.22%, Test accuracy = 82.74%"
   ]
  },
  {
   "cell_type": "markdown",
   "metadata": {},
   "source": [
    "**Working with different activation functions made no serious change in the performance. Since, we are facing high bias issue, we should consider training the complex model or replacing the model.\n",
    "Here is the link for reference: https://www.learnopencv.com/bias-variance-tradeoff-in-machine-learning/**"
   ]
  },
  {
   "cell_type": "code",
   "execution_count": null,
   "metadata": {
    "collapsed": true
   },
   "outputs": [],
   "source": []
  }
 ],
 "metadata": {
  "kernelspec": {
   "display_name": "Python 3",
   "language": "python",
   "name": "python3"
  },
  "language_info": {
   "codemirror_mode": {
    "name": "ipython",
    "version": 3
   },
   "file_extension": ".py",
   "mimetype": "text/x-python",
   "name": "python",
   "nbconvert_exporter": "python",
   "pygments_lexer": "ipython3",
   "version": "3.6.3"
  }
 },
 "nbformat": 4,
 "nbformat_minor": 2
}
