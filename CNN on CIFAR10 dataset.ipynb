{
 "cells": [
  {
   "cell_type": "markdown",
   "metadata": {},
   "source": [
    "CIFAR-10 Dataset link: \n",
    "http://www.cs.toronto.edu/~kriz/cifar.html"
   ]
  },
  {
   "cell_type": "markdown",
   "metadata": {},
   "source": [
    "# PART 1"
   ]
  },
  {
   "cell_type": "code",
   "execution_count": 1,
   "metadata": {},
   "outputs": [
    {
     "name": "stderr",
     "output_type": "stream",
     "text": [
      "C:\\Anaconda3\\lib\\site-packages\\h5py\\__init__.py:34: FutureWarning: Conversion of the second argument of issubdtype from `float` to `np.floating` is deprecated. In future, it will be treated as `np.float64 == np.dtype(float).type`.\n",
      "  from ._conv import register_converters as _register_converters\n",
      "Using TensorFlow backend.\n"
     ]
    }
   ],
   "source": [
    "from __future__ import print_function\n",
    "import keras\n",
    "from keras.datasets import cifar10\n",
    "from keras.preprocessing.image import ImageDataGenerator\n",
    "from keras.models import Sequential\n",
    "from keras.layers import Dense, Dropout, Activation, Flatten\n",
    "from keras.layers import Conv2D, MaxPooling2D\n",
    "from keras.layers import LeakyReLU\n",
    "import matplotlib.pyplot as plt"
   ]
  },
  {
   "cell_type": "markdown",
   "metadata": {},
   "source": [
    "Initializing parameters"
   ]
  },
  {
   "cell_type": "code",
   "execution_count": 2,
   "metadata": {
    "collapsed": true
   },
   "outputs": [],
   "source": [
    "batch_size = 100\n",
    "num_classes = 10\n",
    "epochs = 100\n",
    "opt = keras.optimizers.rmsprop(lr=0.0001, decay=1e-6)"
   ]
  },
  {
   "cell_type": "markdown",
   "metadata": {},
   "source": [
    "Loading dataset"
   ]
  },
  {
   "cell_type": "code",
   "execution_count": 3,
   "metadata": {},
   "outputs": [],
   "source": [
    "(x_train, y_train), (x_test, y_test) = cifar10.load_data()"
   ]
  },
  {
   "cell_type": "markdown",
   "metadata": {},
   "source": [
    "Split datas between train and test sets"
   ]
  },
  {
   "cell_type": "code",
   "execution_count": 4,
   "metadata": {},
   "outputs": [
    {
     "name": "stdout",
     "output_type": "stream",
     "text": [
      "x_train shape:  (50000, 32, 32, 3)\n",
      "x_train samples:  50000\n",
      "y_train samples:  (50000, 1)\n",
      "\n",
      "nx_test shape:  (10000, 32, 32, 3)\n",
      "x_test samples:  50000\n",
      "y_test samples:  (10000, 1)\n"
     ]
    }
   ],
   "source": [
    "print('x_train shape: ', x_train.shape)\n",
    "print('x_train samples: ', x_train.shape[0])\n",
    "print('y_train samples: ', y_train.shape)\n",
    "print('\\nnx_test shape: ', x_test.shape)\n",
    "print('x_test samples: ', x_train.shape[0])\n",
    "print('y_test samples: ', y_test.shape)"
   ]
  },
  {
   "cell_type": "markdown",
   "metadata": {},
   "source": [
    "Convert classes vectors to binary class matrices"
   ]
  },
  {
   "cell_type": "code",
   "execution_count": 5,
   "metadata": {},
   "outputs": [
    {
     "name": "stdout",
     "output_type": "stream",
     "text": [
      "First y_train sample:  [0. 0. 0. 0. 0. 0. 1. 0. 0. 0.]\n"
     ]
    }
   ],
   "source": [
    "y_train = keras.utils.to_categorical(y_train, num_classes)\n",
    "y_test = keras.utils.to_categorical(y_test, num_classes)\n",
    "\n",
    "print('First y_train sample: ', y_train[0])"
   ]
  },
  {
   "cell_type": "markdown",
   "metadata": {},
   "source": [
    "Defining the model "
   ]
  },
  {
   "cell_type": "code",
   "execution_count": 17,
   "metadata": {},
   "outputs": [],
   "source": [
    "model = Sequential()\n",
    "\n",
    "model.add(Conv2D(32, (3, 3), padding='same', input_shape=x_train.shape[1:]))\n",
    "model.add(Activation('relu'))\n",
    "# model.add(LeakyReLU(alpha=.001))\n",
    "model.add(Conv2D(32, (3, 3)))\n",
    "model.add(Activation('relu'))\n",
    "# model.add(LeakyReLU(alpha=.001))\n",
    "model.add(MaxPooling2D(pool_size=(2, 2)))\n",
    "model.add(Dropout(0.25))\n",
    "\n",
    "model.add(Conv2D(64, (3, 3), padding='same'))\n",
    "model.add(Activation('relu'))\n",
    "# model.add(LeakyReLU(alpha=.001))\n",
    "model.add(Conv2D(64, (3, 3)))\n",
    "model.add(Activation('relu'))\n",
    "# model.add(LeakyReLU(alpha=.001))\n",
    "model.add(MaxPooling2D(pool_size=(2, 2)))\n",
    "model.add(Dropout(0.25))\n",
    "\n",
    "model.add(Flatten())\n",
    "model.add(Dense(512))\n",
    "model.add(Activation('relu'))\n",
    "# model.add(LeakyReLU(alpha=.001))\n",
    "model.add(Dropout(0.5))\n",
    "model.add(Dense(num_classes))\n",
    "model.add(Activation('softmax'))"
   ]
  },
  {
   "cell_type": "markdown",
   "metadata": {},
   "source": [
    "Compile model"
   ]
  },
  {
   "cell_type": "code",
   "execution_count": 18,
   "metadata": {
    "collapsed": true
   },
   "outputs": [],
   "source": [
    "model.compile(loss='categorical_crossentropy', optimizer=opt, metrics=['accuracy'])"
   ]
  },
  {
   "cell_type": "markdown",
   "metadata": {},
   "source": [
    "Model summary"
   ]
  },
  {
   "cell_type": "code",
   "execution_count": 19,
   "metadata": {
    "scrolled": true
   },
   "outputs": [
    {
     "name": "stdout",
     "output_type": "stream",
     "text": [
      "_________________________________________________________________\n",
      "Layer (type)                 Output Shape              Param #   \n",
      "=================================================================\n",
      "conv2d_5 (Conv2D)            (None, 32, 32, 32)        896       \n",
      "_________________________________________________________________\n",
      "activation_7 (Activation)    (None, 32, 32, 32)        0         \n",
      "_________________________________________________________________\n",
      "conv2d_6 (Conv2D)            (None, 30, 30, 32)        9248      \n",
      "_________________________________________________________________\n",
      "activation_8 (Activation)    (None, 30, 30, 32)        0         \n",
      "_________________________________________________________________\n",
      "max_pooling2d_3 (MaxPooling2 (None, 15, 15, 32)        0         \n",
      "_________________________________________________________________\n",
      "dropout_4 (Dropout)          (None, 15, 15, 32)        0         \n",
      "_________________________________________________________________\n",
      "conv2d_7 (Conv2D)            (None, 15, 15, 64)        18496     \n",
      "_________________________________________________________________\n",
      "activation_9 (Activation)    (None, 15, 15, 64)        0         \n",
      "_________________________________________________________________\n",
      "conv2d_8 (Conv2D)            (None, 13, 13, 64)        36928     \n",
      "_________________________________________________________________\n",
      "activation_10 (Activation)   (None, 13, 13, 64)        0         \n",
      "_________________________________________________________________\n",
      "max_pooling2d_4 (MaxPooling2 (None, 6, 6, 64)          0         \n",
      "_________________________________________________________________\n",
      "dropout_5 (Dropout)          (None, 6, 6, 64)          0         \n",
      "_________________________________________________________________\n",
      "flatten_2 (Flatten)          (None, 2304)              0         \n",
      "_________________________________________________________________\n",
      "dense_3 (Dense)              (None, 512)               1180160   \n",
      "_________________________________________________________________\n",
      "activation_11 (Activation)   (None, 512)               0         \n",
      "_________________________________________________________________\n",
      "dropout_6 (Dropout)          (None, 512)               0         \n",
      "_________________________________________________________________\n",
      "dense_4 (Dense)              (None, 512)               262656    \n",
      "_________________________________________________________________\n",
      "activation_12 (Activation)   (None, 512)               0         \n",
      "_________________________________________________________________\n",
      "dropout_7 (Dropout)          (None, 512)               0         \n",
      "_________________________________________________________________\n",
      "dense_5 (Dense)              (None, 10)                5130      \n",
      "_________________________________________________________________\n",
      "activation_13 (Activation)   (None, 10)                0         \n",
      "=================================================================\n",
      "Total params: 1,513,514\n",
      "Trainable params: 1,513,514\n",
      "Non-trainable params: 0\n",
      "_________________________________________________________________\n"
     ]
    }
   ],
   "source": [
    "model.summary()"
   ]
  },
  {
   "cell_type": "markdown",
   "metadata": {},
   "source": [
    "Let's train the model"
   ]
  },
  {
   "cell_type": "code",
   "execution_count": null,
   "metadata": {},
   "outputs": [],
   "source": [
    "history = model.fit(x_train, y_train, validation_split=0.3, batch_size=batch_size, epochs=epochs, shuffle=True)"
   ]
  },
  {
   "cell_type": "markdown",
   "metadata": {},
   "source": [
    "Plotting loss vs epoch"
   ]
  },
  {
   "cell_type": "code",
   "execution_count": null,
   "metadata": {},
   "outputs": [],
   "source": [
    "# list all data in history\n",
    "print(history.history.keys())\n",
    "\n",
    "plt.plot(history.history['loss'])\n",
    "plt.plot(history.history['val_loss'])\n",
    "plt.title('Model loss')\n",
    "plt.ylabel('Loss')\n",
    "plt.xlabel('Epoch')\n",
    "plt.legend(['Train', 'Validation'], loc='upper left')\n",
    "plt.show()"
   ]
  },
  {
   "cell_type": "markdown",
   "metadata": {},
   "source": [
    "Evaluate test samples "
   ]
  },
  {
   "cell_type": "code",
   "execution_count": null,
   "metadata": {},
   "outputs": [],
   "source": [
    "scores = model.evaluate(x_test, y_test, verbose=1)\n",
    "\n",
    "print('Test loss:', scores[0])\n",
    "\n",
    "print('Test accuracy:', scores[1])"
   ]
  },
  {
   "cell_type": "markdown",
   "metadata": {},
   "source": [
    "Using ReLU activation function, Validation accuracy = 75.67%, Train accuracy = 78.84%, Test accuracy = 75.13%"
   ]
  },
  {
   "cell_type": "markdown",
   "metadata": {},
   "source": [
    "**Overall, model has high bias and high variance and required more than 3 hrs to train the data.**"
   ]
  },
  {
   "cell_type": "markdown",
   "metadata": {},
   "source": [
    "Using Leaky ReLU activation function, Validation accuracy = 74.92%, Train accuracy = 79.21%, Test accuracy = 74.98%"
   ]
  },
  {
   "cell_type": "markdown",
   "metadata": {},
   "source": [
    "**After changing the activation function to Leaky ReLU, model still has high bias and high variance. By inspection, this model required more time than model with ReLU activation to train the data.**"
   ]
  },
  {
   "cell_type": "markdown",
   "metadata": {},
   "source": [
    "# PART 2"
   ]
  },
  {
   "cell_type": "markdown",
   "metadata": {},
   "source": [
    "Now, we will check the behaviour of model after feeding scaled training and test samples "
   ]
  },
  {
   "cell_type": "markdown",
   "metadata": {},
   "source": [
    "Scaling test and training samples"
   ]
  },
  {
   "cell_type": "code",
   "execution_count": 9,
   "metadata": {
    "collapsed": true
   },
   "outputs": [],
   "source": [
    "x_train = x_train.astype('float32')\n",
    "x_test = x_test.astype('float32')\n",
    "x_train /= 255\n",
    "x_test /= 255"
   ]
  },
  {
   "cell_type": "markdown",
   "metadata": {},
   "source": [
    "Let's train the model"
   ]
  },
  {
   "cell_type": "code",
   "execution_count": null,
   "metadata": {},
   "outputs": [],
   "source": [
    "history = model.fit(x_train, y_train, validation_split=0.3, batch_size=batch_size, epochs=epochs, shuffle=True)"
   ]
  },
  {
   "cell_type": "markdown",
   "metadata": {},
   "source": [
    "Plotting loss vs epoch"
   ]
  },
  {
   "cell_type": "code",
   "execution_count": null,
   "metadata": {},
   "outputs": [],
   "source": [
    "# list all data in history\n",
    "print(history.history.keys())\n",
    "\n",
    "plt.plot(history.history['loss'])\n",
    "plt.plot(history.history['val_loss'])\n",
    "plt.title('Model loss')\n",
    "plt.ylabel('Loss')\n",
    "plt.xlabel('Epoch')\n",
    "plt.legend(['Train', 'Validation'], loc='upper left')\n",
    "plt.show()"
   ]
  },
  {
   "cell_type": "markdown",
   "metadata": {},
   "source": [
    "Evaluate test samples "
   ]
  },
  {
   "cell_type": "code",
   "execution_count": null,
   "metadata": {},
   "outputs": [],
   "source": [
    "scores = model.evaluate(x_test, y_test, verbose=1)\n",
    "\n",
    "print('Test loss:', scores[0])\n",
    "\n",
    "print('Test accuracy:', scores[1])"
   ]
  },
  {
   "cell_type": "markdown",
   "metadata": {},
   "source": [
    "Validation accuracy = 79.07%, Train accuracy = 84.43%, Test accuracy = 78.3%"
   ]
  },
  {
   "cell_type": "markdown",
   "metadata": {},
   "source": [
    "**Now, Analyzing this model will show that training error is around 15% whereas validation error is 21%. If we compare with model without scaling the dataset, then test accuracy has increased by 3%. Bias has been decreased but variance is high. Next step will be to reduce high variance.**"
   ]
  },
  {
   "cell_type": "markdown",
   "metadata": {},
   "source": [
    "**To reduce the high variance problem, we can add more data by data augmentation.**"
   ]
  },
  {
   "cell_type": "markdown",
   "metadata": {},
   "source": [
    "# PART 3"
   ]
  },
  {
   "cell_type": "markdown",
   "metadata": {},
   "source": [
    "Now, we will check the behaviour of model after feeding scaled training and test samples "
   ]
  },
  {
   "cell_type": "code",
   "execution_count": 10,
   "metadata": {},
   "outputs": [
    {
     "name": "stdout",
     "output_type": "stream",
     "text": [
      "Using real-time data augmentation.\n"
     ]
    }
   ],
   "source": [
    "print('Using real-time data augmentation.')\n",
    "\n",
    "# This will do preprocessing and realtime data augmentation\n",
    "datagen = ImageDataGenerator(\n",
    "    # set input mean to 0 over the dataset\n",
    "    featurewise_center=False, \n",
    "    # set each sample mean to 0\n",
    "    samplewise_center=False,  \n",
    "    # divide inputs by std of the dataset\n",
    "    featurewise_std_normalization=False, \n",
    "    # divide each input by its std\n",
    "    samplewise_std_normalization=False,\n",
    "    # apply ZCA whitening\n",
    "    zca_whitening=False,  \n",
    "    # epsilon for ZCA whitening\n",
    "    zca_epsilon=1e-06,  \n",
    "    # randomly rotate images in the range (degrees, 0 to 180)\n",
    "    rotation_range=0,  \n",
    "    # randomly shift images horizontally (fraction of total width)    \n",
    "    width_shift_range=0.1,\n",
    "    # randomly shift images vertically (fraction of total height)\n",
    "    height_shift_range=0.1,\n",
    "    # set range for random shear\n",
    "    shear_range=0., \n",
    "    # set range for random zoom\n",
    "    zoom_range=0.,  \n",
    "    # set range for random channel shifts\n",
    "    channel_shift_range=0.,  \n",
    "    # set mode for filling points outside the input boundaries\n",
    "    fill_mode='nearest',\n",
    "    # value used for fill_mode = \"constant\"\n",
    "    cval=0.,  \n",
    "    # randomly flip images\n",
    "    horizontal_flip=True,  \n",
    "    # randomly flip images\n",
    "    vertical_flip=False,  \n",
    "    # set rescaling factor (applied before any other transformation)\n",
    "    rescale=None,\n",
    "    # set function that will be applied on each input\n",
    "    preprocessing_function=None,\n",
    "    # image data format, either \"channels_first\" or \"channels_last\"\n",
    "    data_format=None,\n",
    "    # fraction of images reserved for validation (strictly between 0 and 1)\n",
    "    validation_split=0.0)"
   ]
  },
  {
   "cell_type": "code",
   "execution_count": 11,
   "metadata": {
    "collapsed": true
   },
   "outputs": [],
   "source": [
    "# Compute quantities required for feature-wise normalization\n",
    "datagen.fit(x_train)"
   ]
  },
  {
   "cell_type": "markdown",
   "metadata": {},
   "source": [
    "Fit the model on the batches generated by datagen.flow()"
   ]
  },
  {
   "cell_type": "code",
   "execution_count": 12,
   "metadata": {},
   "outputs": [
    {
     "name": "stdout",
     "output_type": "stream",
     "text": [
      "Epoch 1/100\n",
      "500/500 [==============================] - 302s 604ms/step - loss: 1.9693 - acc: 0.2736\n",
      "Epoch 2/100\n",
      "500/500 [==============================] - 291s 583ms/step - loss: 1.7137 - acc: 0.3748\n",
      "Epoch 3/100\n",
      "500/500 [==============================] - 284s 568ms/step - loss: 1.6128 - acc: 0.4089\n",
      "Epoch 4/100\n",
      "500/500 [==============================] - 277s 555ms/step - loss: 1.5341 - acc: 0.4424\n",
      "Epoch 5/100\n",
      "500/500 [==============================] - 267s 534ms/step - loss: 1.4725 - acc: 0.4651\n",
      "Epoch 6/100\n",
      "500/500 [==============================] - 269s 538ms/step - loss: 1.4198 - acc: 0.4868\n",
      "Epoch 7/100\n",
      "500/500 [==============================] - 267s 533ms/step - loss: 1.3767 - acc: 0.5036\n",
      "Epoch 8/100\n",
      "500/500 [==============================] - 265s 529ms/step - loss: 1.3426 - acc: 0.5180\n",
      "Epoch 9/100\n",
      "500/500 [==============================] - 264s 529ms/step - loss: 1.3010 - acc: 0.5334\n",
      "Epoch 10/100\n",
      "500/500 [==============================] - 265s 529ms/step - loss: 1.2737 - acc: 0.5443\n",
      "Epoch 11/100\n",
      "500/500 [==============================] - 265s 531ms/step - loss: 1.2432 - acc: 0.5592\n",
      "Epoch 12/100\n",
      "500/500 [==============================] - 264s 527ms/step - loss: 1.2152 - acc: 0.5670\n",
      "Epoch 13/100\n",
      "500/500 [==============================] - 268s 535ms/step - loss: 1.1868 - acc: 0.5785\n",
      "Epoch 14/100\n",
      "500/500 [==============================] - 264s 527ms/step - loss: 1.1661 - acc: 0.5858\n",
      "Epoch 15/100\n",
      "500/500 [==============================] - 263s 526ms/step - loss: 1.1485 - acc: 0.5940\n",
      "Epoch 16/100\n",
      "500/500 [==============================] - 266s 533ms/step - loss: 1.1259 - acc: 0.6020\n",
      "Epoch 17/100\n",
      "500/500 [==============================] - 268s 535ms/step - loss: 1.1130 - acc: 0.6064\n",
      "Epoch 18/100\n",
      "500/500 [==============================] - 264s 527ms/step - loss: 1.0882 - acc: 0.6156\n",
      "Epoch 19/100\n",
      "500/500 [==============================] - 263s 526ms/step - loss: 1.0770 - acc: 0.6196\n",
      "Epoch 20/100\n",
      "500/500 [==============================] - 263s 526ms/step - loss: 1.0650 - acc: 0.6249\n",
      "Epoch 21/100\n",
      "500/500 [==============================] - 264s 529ms/step - loss: 1.0438 - acc: 0.6349\n",
      "Epoch 22/100\n",
      "500/500 [==============================] - 263s 527ms/step - loss: 1.0321 - acc: 0.6353\n",
      "Epoch 23/100\n",
      "500/500 [==============================] - 263s 525ms/step - loss: 1.0211 - acc: 0.6391\n",
      "Epoch 24/100\n",
      "500/500 [==============================] - 263s 525ms/step - loss: 1.0132 - acc: 0.6425\n",
      "Epoch 25/100\n",
      "500/500 [==============================] - 264s 529ms/step - loss: 0.9986 - acc: 0.6485\n",
      "Epoch 26/100\n",
      "500/500 [==============================] - 265s 531ms/step - loss: 0.9898 - acc: 0.6513\n",
      "Epoch 27/100\n",
      "500/500 [==============================] - 270s 540ms/step - loss: 0.9774 - acc: 0.6568\n",
      "Epoch 28/100\n",
      "500/500 [==============================] - 264s 528ms/step - loss: 0.9652 - acc: 0.6592\n",
      "Epoch 29/100\n",
      "500/500 [==============================] - 263s 526ms/step - loss: 0.9586 - acc: 0.6612\n",
      "Epoch 30/100\n",
      "500/500 [==============================] - 263s 527ms/step - loss: 0.9455 - acc: 0.6684\n",
      "Epoch 31/100\n",
      "500/500 [==============================] - 263s 527ms/step - loss: 0.9400 - acc: 0.6680\n",
      "Epoch 32/100\n",
      "500/500 [==============================] - 264s 528ms/step - loss: 0.9327 - acc: 0.6721\n",
      "Epoch 33/100\n",
      "500/500 [==============================] - 264s 528ms/step - loss: 0.9245 - acc: 0.6758\n",
      "Epoch 34/100\n",
      "500/500 [==============================] - 266s 532ms/step - loss: 0.9107 - acc: 0.6807\n",
      "Epoch 35/100\n",
      "500/500 [==============================] - 264s 529ms/step - loss: 0.9039 - acc: 0.6838\n",
      "Epoch 36/100\n",
      "500/500 [==============================] - 264s 527ms/step - loss: 0.9015 - acc: 0.6837\n",
      "Epoch 37/100\n",
      "500/500 [==============================] - 265s 529ms/step - loss: 0.8918 - acc: 0.6867\n",
      "Epoch 38/100\n",
      "500/500 [==============================] - 264s 528ms/step - loss: 0.8859 - acc: 0.6863\n",
      "Epoch 39/100\n",
      "500/500 [==============================] - 269s 538ms/step - loss: 0.8746 - acc: 0.6924\n",
      "Epoch 40/100\n",
      "500/500 [==============================] - 268s 536ms/step - loss: 0.8663 - acc: 0.6949\n",
      "Epoch 41/100\n",
      "500/500 [==============================] - 264s 528ms/step - loss: 0.8640 - acc: 0.6975\n",
      "Epoch 42/100\n",
      "500/500 [==============================] - 265s 530ms/step - loss: 0.8581 - acc: 0.6981\n",
      "Epoch 43/100\n",
      "500/500 [==============================] - 264s 529ms/step - loss: 0.8540 - acc: 0.7032\n",
      "Epoch 44/100\n",
      "500/500 [==============================] - 264s 528ms/step - loss: 0.8472 - acc: 0.7033\n",
      "Epoch 45/100\n",
      "500/500 [==============================] - 265s 530ms/step - loss: 0.8372 - acc: 0.7061\n",
      "Epoch 46/100\n",
      "500/500 [==============================] - 264s 528ms/step - loss: 0.8334 - acc: 0.7104\n",
      "Epoch 47/100\n",
      "500/500 [==============================] - 265s 529ms/step - loss: 0.8292 - acc: 0.7113\n",
      "Epoch 48/100\n",
      "500/500 [==============================] - 267s 534ms/step - loss: 0.8209 - acc: 0.7138\n",
      "Epoch 49/100\n",
      "500/500 [==============================] - 268s 535ms/step - loss: 0.8236 - acc: 0.7135\n",
      "Epoch 50/100\n",
      "500/500 [==============================] - 268s 536ms/step - loss: 0.8118 - acc: 0.7185\n",
      "Epoch 51/100\n",
      "500/500 [==============================] - 267s 533ms/step - loss: 0.8020 - acc: 0.7208\n",
      "Epoch 52/100\n",
      "500/500 [==============================] - 269s 538ms/step - loss: 0.7984 - acc: 0.7209\n",
      "Epoch 53/100\n",
      "500/500 [==============================] - 270s 539ms/step - loss: 0.7995 - acc: 0.7203\n",
      "Epoch 54/100\n",
      "500/500 [==============================] - 265s 529ms/step - loss: 0.7995 - acc: 0.7227\n",
      "Epoch 55/100\n",
      "500/500 [==============================] - 266s 533ms/step - loss: 0.7890 - acc: 0.7265\n",
      "Epoch 56/100\n",
      "500/500 [==============================] - 265s 531ms/step - loss: 0.7858 - acc: 0.7255\n",
      "Epoch 57/100\n",
      "500/500 [==============================] - 267s 533ms/step - loss: 0.7829 - acc: 0.7283\n",
      "Epoch 58/100\n",
      "500/500 [==============================] - 266s 532ms/step - loss: 0.7785 - acc: 0.7294\n",
      "Epoch 59/100\n",
      "500/500 [==============================] - 269s 538ms/step - loss: 0.7739 - acc: 0.7306\n",
      "Epoch 60/100\n",
      "500/500 [==============================] - 269s 538ms/step - loss: 0.7738 - acc: 0.7318\n",
      "Epoch 61/100\n",
      "500/500 [==============================] - 271s 542ms/step - loss: 0.7691 - acc: 0.7320\n",
      "Epoch 62/100\n",
      "500/500 [==============================] - 274s 548ms/step - loss: 0.7705 - acc: 0.7338\n",
      "Epoch 63/100\n",
      "500/500 [==============================] - 270s 540ms/step - loss: 0.7650 - acc: 0.7359\n",
      "Epoch 64/100\n",
      "500/500 [==============================] - 266s 533ms/step - loss: 0.7613 - acc: 0.7370\n",
      "Epoch 65/100\n",
      "500/500 [==============================] - 266s 531ms/step - loss: 0.7565 - acc: 0.7381\n",
      "Epoch 66/100\n",
      "500/500 [==============================] - 265s 530ms/step - loss: 0.7525 - acc: 0.7408\n",
      "Epoch 67/100\n",
      "500/500 [==============================] - 266s 533ms/step - loss: 0.7515 - acc: 0.7423\n",
      "Epoch 68/100\n",
      "500/500 [==============================] - 265s 530ms/step - loss: 0.7502 - acc: 0.7395\n",
      "Epoch 69/100\n",
      "500/500 [==============================] - 267s 533ms/step - loss: 0.7503 - acc: 0.7430\n",
      "Epoch 70/100\n",
      "500/500 [==============================] - 265s 530ms/step - loss: 0.7451 - acc: 0.7424\n",
      "Epoch 71/100\n",
      "500/500 [==============================] - 265s 530ms/step - loss: 0.7441 - acc: 0.7428\n",
      "Epoch 72/100\n",
      "500/500 [==============================] - 267s 533ms/step - loss: 0.7420 - acc: 0.7447\n",
      "Epoch 73/100\n",
      "500/500 [==============================] - 266s 532ms/step - loss: 0.7310 - acc: 0.7467\n",
      "Epoch 74/100\n",
      "500/500 [==============================] - 265s 531ms/step - loss: 0.7375 - acc: 0.7472\n",
      "Epoch 75/100\n",
      "500/500 [==============================] - 265s 530ms/step - loss: 0.7341 - acc: 0.7481\n",
      "Epoch 76/100\n",
      "500/500 [==============================] - 266s 532ms/step - loss: 0.7296 - acc: 0.7481\n",
      "Epoch 77/100\n",
      "500/500 [==============================] - 267s 534ms/step - loss: 0.7284 - acc: 0.7505\n",
      "Epoch 78/100\n",
      "500/500 [==============================] - 265s 531ms/step - loss: 0.7270 - acc: 0.7492\n",
      "Epoch 79/100\n",
      "500/500 [==============================] - 266s 532ms/step - loss: 0.7230 - acc: 0.7514\n",
      "Epoch 80/100\n",
      "500/500 [==============================] - 269s 539ms/step - loss: 0.7206 - acc: 0.7520\n",
      "Epoch 81/100\n",
      "500/500 [==============================] - 272s 543ms/step - loss: 0.7198 - acc: 0.7527\n",
      "Epoch 82/100\n"
     ]
    },
    {
     "name": "stdout",
     "output_type": "stream",
     "text": [
      "500/500 [==============================] - 267s 535ms/step - loss: 0.7224 - acc: 0.7503\n",
      "Epoch 83/100\n",
      "500/500 [==============================] - 267s 534ms/step - loss: 0.7220 - acc: 0.7519\n",
      "Epoch 84/100\n",
      "500/500 [==============================] - 271s 541ms/step - loss: 0.7110 - acc: 0.7525\n",
      "Epoch 85/100\n",
      "500/500 [==============================] - 266s 531ms/step - loss: 0.7139 - acc: 0.7543\n",
      "Epoch 86/100\n",
      "500/500 [==============================] - 262s 525ms/step - loss: 0.7150 - acc: 0.7560\n",
      "Epoch 87/100\n",
      "500/500 [==============================] - 263s 526ms/step - loss: 0.7094 - acc: 0.7592\n",
      "Epoch 88/100\n",
      "500/500 [==============================] - 264s 528ms/step - loss: 0.7132 - acc: 0.7555\n",
      "Epoch 89/100\n",
      "500/500 [==============================] - 263s 526ms/step - loss: 0.7112 - acc: 0.7578\n",
      "Epoch 90/100\n",
      "500/500 [==============================] - 262s 524ms/step - loss: 0.7060 - acc: 0.7581\n",
      "Epoch 91/100\n",
      "500/500 [==============================] - 262s 524ms/step - loss: 0.7024 - acc: 0.7618\n",
      "Epoch 92/100\n",
      "500/500 [==============================] - 266s 533ms/step - loss: 0.7044 - acc: 0.7598\n",
      "Epoch 93/100\n",
      "500/500 [==============================] - 266s 532ms/step - loss: 0.7086 - acc: 0.7596\n",
      "Epoch 94/100\n",
      "500/500 [==============================] - 269s 538ms/step - loss: 0.7041 - acc: 0.7612\n",
      "Epoch 95/100\n",
      "500/500 [==============================] - 268s 537ms/step - loss: 0.7002 - acc: 0.7622\n",
      "Epoch 96/100\n",
      "500/500 [==============================] - 267s 534ms/step - loss: 0.6985 - acc: 0.7596\n",
      "Epoch 97/100\n",
      "500/500 [==============================] - 263s 525ms/step - loss: 0.6955 - acc: 0.7641\n",
      "Epoch 98/100\n",
      "500/500 [==============================] - 262s 525ms/step - loss: 0.6960 - acc: 0.7632\n",
      "Epoch 99/100\n",
      "500/500 [==============================] - 263s 526ms/step - loss: 0.6943 - acc: 0.7620\n",
      "Epoch 100/100\n",
      "500/500 [==============================] - 263s 526ms/step - loss: 0.7008 - acc: 0.7598\n"
     ]
    }
   ],
   "source": [
    "history = model.fit_generator(datagen.flow(x_train, y_train, batch_size=batch_size), epochs=epochs, validation_data=None, workers=4)"
   ]
  },
  {
   "cell_type": "markdown",
   "metadata": {},
   "source": [
    "Plotting loss vs epoch"
   ]
  },
  {
   "cell_type": "code",
   "execution_count": 16,
   "metadata": {},
   "outputs": [
    {
     "name": "stdout",
     "output_type": "stream",
     "text": [
      "dict_keys(['loss', 'acc'])\n"
     ]
    },
    {
     "data": {
      "image/png": "[encoded data removed]",
      "text/plain": [
       "<Figure size 432x288 with 1 Axes>"
      ]
     },
     "metadata": {},
     "output_type": "display_data"
    }
   ],
   "source": [
    "# list all data in history\n",
    "print(history.history.keys())\n",
    "\n",
    "plt.plot(history.history['loss'])\n",
    "plt.title('Model loss')\n",
    "plt.ylabel('Loss')\n",
    "plt.xlabel('Epoch')\n",
    "plt.legend(['Train'], loc='upper right')\n",
    "plt.show()"
   ]
  },
  {
   "cell_type": "markdown",
   "metadata": {},
   "source": [
    "Evaluate test samples "
   ]
  },
  {
   "cell_type": "code",
   "execution_count": 15,
   "metadata": {},
   "outputs": [
    {
     "name": "stdout",
     "output_type": "stream",
     "text": [
      "10000/10000 [==============================] - 21s 2ms/step\n",
      "Test loss: 0.6223537016868591\n",
      "Test accuracy: 0.788\n"
     ]
    }
   ],
   "source": [
    "scores = model.evaluate(x_test, y_test, verbose=1)\n",
    "\n",
    "print('Test loss:', scores[0])\n",
    "\n",
    "print('Test accuracy:', scores[1])"
   ]
  },
  {
   "cell_type": "markdown",
   "metadata": {},
   "source": [
    "Train accuracy = 75.98%, Test accuracy = 78.8%"
   ]
  },
  {
   "cell_type": "markdown",
   "metadata": {},
   "source": [
    "**If we compare the train accuracy with model applied after scaled data, then it has decreased by 8% and test accuracy has increased by just 0.5%. We can see that model still has high bias problem and adding the data to train the model has not helped in this case. We can try to add the features or train with different model to check the performance.**"
   ]
  },
  {
   "cell_type": "code",
   "execution_count": null,
   "metadata": {
    "collapsed": true
   },
   "outputs": [],
   "source": []
  }
 ],
 "metadata": {
  "kernelspec": {
   "display_name": "Python 3",
   "language": "python",
   "name": "python3"
  },
  "language_info": {
   "codemirror_mode": {
    "name": "ipython",
    "version": 3
   },
   "file_extension": ".py",
   "mimetype": "text/x-python",
   "name": "python",
   "nbconvert_exporter": "python",
   "pygments_lexer": "ipython3",
   "version": "3.6.3"
  }
 },
 "nbformat": 4,
 "nbformat_minor": 2
}
